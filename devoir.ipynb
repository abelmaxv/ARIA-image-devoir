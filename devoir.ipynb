{
 "cells": [
  {
   "cell_type": "markdown",
   "id": "b811c453",
   "metadata": {},
   "source": [
    "# Homework assignment for ARIA image course "
   ]
  },
  {
   "cell_type": "code",
   "execution_count": 121,
   "id": "3c61bbe5",
   "metadata": {},
   "outputs": [
    {
     "name": "stdout",
     "output_type": "stream",
     "text": [
      "Using device: mps\n"
     ]
    }
   ],
   "source": [
    "import torch \n",
    "import torchvision.transforms.v2 as transforms\n",
    "from torchvision import datasets\n",
    "from torch.utils.data import DataLoader\n",
    "import torch.nn as nn\n",
    "import torch.optim as optim\n",
    "import matplotlib.pyplot as plt\n",
    "\n",
    "device = torch.device(\"cuda\" if torch.cuda.is_available() else \"mps\" if torch.backends.mps.is_available() else \"cpu\")\n",
    "print(\"Using device:\", device)"
   ]
  },
  {
   "cell_type": "code",
   "execution_count": 122,
   "id": "0d6c3f1f",
   "metadata": {},
   "outputs": [],
   "source": [
    "transform = transforms.Compose([\n",
    "    transforms.ToImage(),\n",
    "    transforms.ToDtype(torch.float32, scale=True), \n",
    "    transforms.Normalize((0.5,), (0.5,))\n",
    "    ])"
   ]
  },
  {
   "cell_type": "code",
   "execution_count": 123,
   "id": "5c940d8d",
   "metadata": {},
   "outputs": [],
   "source": [
    "train_dataset = datasets.MNIST(root=\"./data\", train=True, download=True, transform=transform)\n",
    "test_dataset = datasets.MNIST(root=\"./data\", train=False, download=True, transform=transform)\n",
    "\n",
    "train_loader = DataLoader(train_dataset, batch_size=64, shuffle=True)\n",
    "test_loader = DataLoader(test_dataset, batch_size=1000, shuffle=False)"
   ]
  },
  {
   "cell_type": "code",
   "execution_count": 124,
   "id": "e0b5f994",
   "metadata": {},
   "outputs": [
    {
     "data": {
      "text/plain": [
       "<matplotlib.image.AxesImage at 0x32003aad0>"
      ]
     },
     "execution_count": 124,
     "metadata": {},
     "output_type": "execute_result"
    },
    {
     "data": {
      "image/png": "[encoded data removed]",
      "text/plain": [
       "<Figure size 640x480 with 1 Axes>"
      ]
     },
     "metadata": {},
     "output_type": "display_data"
    }
   ],
   "source": [
    "plt.imshow(train_dataset[0][0].squeeze(), cmap='gray')"
   ]
  },
  {
   "cell_type": "markdown",
   "id": "831fe08f",
   "metadata": {},
   "source": [
    "## PART 1 : Classification with CNN on MNIST"
   ]
  },
  {
   "cell_type": "markdown",
   "id": "c4e446d9",
   "metadata": {},
   "source": [
    "For the purpouse of learning and experimentation, we implement different CNN architecture and compare there efficiency on the MNIST classification task."
   ]
  },
  {
   "cell_type": "markdown",
   "id": "33a29b06",
   "metadata": {},
   "source": [
    "### Architecture 1 :  LeNet "
   ]
  },
  {
   "cell_type": "markdown",
   "id": "93ff956c",
   "metadata": {},
   "source": [
    "LeNet is the architecture described in the pratical session. It is one of the first CNN built by LeCun in the 1990's and proved well on MNIST despite simplicity. The architecture of the NN is the following : \n",
    "\n",
    "- Layer 1 : Convolution layer with 6 output channels and 5x5 filter (1x28x28 -> 6x24x24) \n",
    "- Layer 2 : Average pool of size 2x2 (6x24x24 -> 6x12x12)\n",
    "- Layer 3 : Convolution with 16 outplut channels and 5x5 filter (6x12x12 -> 16x8x8)\n",
    "- Layer 4 : Average pool of size 2x2 (16x8x8 -> 16x4x4 flattened to 256)\n",
    "- Layer 5 : Fully connected (256 -> 84)\n",
    "- Layer 6 : Fully connected (84 -> 10)\n"
   ]
  },
  {
   "cell_type": "code",
   "execution_count": 125,
   "id": "af4eb924",
   "metadata": {},
   "outputs": [],
   "source": [
    "class LeNet(nn.Module):\n",
    "    def __init__(self):\n",
    "        super(LeNet, self).__init__()\n",
    "        # Define layers\n",
    "        self.conv1 = nn.Conv2d(1, 6, 5)\n",
    "        self.avgpool1 = nn.AvgPool2d(2, 2)\n",
    "        self.conv2 = nn.Conv2d(6, 16, 5)\n",
    "        self.avgpool2 = nn.AvgPool2d(2, 2)\n",
    "        self.fc1 = nn.Linear(16*4*4, 120)\n",
    "        self.fc2 = nn.Linear(120, 84)\n",
    "        self.fc3 = nn.Linear(84, 10)\n",
    "        # Define the network\n",
    "        self.net = nn.Sequential(\n",
    "            self.conv1, nn.ReLU(),\n",
    "            self.avgpool1,\n",
    "            self.conv2, nn.ReLU(),\n",
    "            self.avgpool2, \n",
    "            nn.Flatten(),\n",
    "            self.fc1, nn.ReLU(),\n",
    "            self.fc2, nn.ReLU(),\n",
    "            self.fc3\n",
    "        )\n",
    "\n",
    "    def forward(self, x):\n",
    "        return self.net(x)\n"
   ]
  },
  {
   "cell_type": "code",
   "execution_count": 126,
   "id": "b05d2982",
   "metadata": {},
   "outputs": [
    {
     "data": {
      "text/plain": [
       "LeNet(\n",
       "  (conv1): Conv2d(1, 6, kernel_size=(5, 5), stride=(1, 1))\n",
       "  (avgpool1): AvgPool2d(kernel_size=2, stride=2, padding=0)\n",
       "  (conv2): Conv2d(6, 16, kernel_size=(5, 5), stride=(1, 1))\n",
       "  (avgpool2): AvgPool2d(kernel_size=2, stride=2, padding=0)\n",
       "  (fc1): Linear(in_features=256, out_features=120, bias=True)\n",
       "  (fc2): Linear(in_features=120, out_features=84, bias=True)\n",
       "  (fc3): Linear(in_features=84, out_features=10, bias=True)\n",
       "  (net): Sequential(\n",
       "    (0): Conv2d(1, 6, kernel_size=(5, 5), stride=(1, 1))\n",
       "    (1): ReLU()\n",
       "    (2): AvgPool2d(kernel_size=2, stride=2, padding=0)\n",
       "    (3): Conv2d(6, 16, kernel_size=(5, 5), stride=(1, 1))\n",
       "    (4): ReLU()\n",
       "    (5): AvgPool2d(kernel_size=2, stride=2, padding=0)\n",
       "    (6): Flatten(start_dim=1, end_dim=-1)\n",
       "    (7): Linear(in_features=256, out_features=120, bias=True)\n",
       "    (8): ReLU()\n",
       "    (9): Linear(in_features=120, out_features=84, bias=True)\n",
       "    (10): ReLU()\n",
       "    (11): Linear(in_features=84, out_features=10, bias=True)\n",
       "  )\n",
       ")"
      ]
     },
     "execution_count": 126,
     "metadata": {},
     "output_type": "execute_result"
    }
   ],
   "source": [
    "model_LeNet = LeNet()\n",
    "model_LeNet.to(device)\n",
    "model_LeNet"
   ]
  },
  {
   "cell_type": "markdown",
   "id": "3b5f571f",
   "metadata": {},
   "source": [
    "We now train the our model on the MNIST dataset using crossentropy loss : $$\\mathcal{L}(p_{data},p_\\theta) = -\\mathbb{E}_{X \\sim p_{data}}[\\log(p_\\theta(X))]$$\n"
   ]
  },
  {
   "cell_type": "code",
   "execution_count": 127,
   "id": "3c478e9b",
   "metadata": {},
   "outputs": [],
   "source": [
    "criterion = nn.CrossEntropyLoss()\n",
    "optimizer = optim.Adam(model_LeNet.parameters(), lr=0.001)"
   ]
  },
  {
   "cell_type": "code",
   "execution_count": 164,
   "id": "6ac226d3",
   "metadata": {},
   "outputs": [],
   "source": [
    "epochs = 10\n",
    "avg_loss_list = []\n",
    "\n",
    "def train_one_epoch():\n",
    "    model_LeNet.train()  # Set model to training mode\n",
    "    running_loss = 0.0\n",
    "    total_batches = 0\n",
    "\n",
    "    for i, data in enumerate(train_loader):\n",
    "        inputs, labels = data\n",
    "        inputs, labels = inputs.to(device), labels.to(device)  # Move both to device\n",
    "        \n",
    "        optimizer.zero_grad()\n",
    "        outputs = model_LeNet(inputs)\n",
    "        loss = criterion(outputs, labels)\n",
    "        loss.backward()\n",
    "        optimizer.step()\n",
    "\n",
    "        running_loss += loss.item()\n",
    "        total_batches += 1\n",
    "        \n",
    "        if i % 100 == 99:    \n",
    "            avg_loss = running_loss / total_batches\n",
    "            avg_loss_list.append(avg_loss)\n",
    "            running_loss = 0.0\n",
    "            total_batches = 0\n"
   ]
  },
  {
   "cell_type": "code",
   "execution_count": null,
   "id": "1e528cbc",
   "metadata": {},
   "outputs": [
    {
     "data": {
      "text/plain": [
       "LeNet(\n",
       "  (conv1): Conv2d(1, 6, kernel_size=(5, 5), stride=(1, 1))\n",
       "  (avgpool1): AvgPool2d(kernel_size=2, stride=2, padding=0)\n",
       "  (conv2): Conv2d(6, 16, kernel_size=(5, 5), stride=(1, 1))\n",
       "  (avgpool2): AvgPool2d(kernel_size=2, stride=2, padding=0)\n",
       "  (fc1): Linear(in_features=256, out_features=120, bias=True)\n",
       "  (fc2): Linear(in_features=120, out_features=84, bias=True)\n",
       "  (fc3): Linear(in_features=84, out_features=10, bias=True)\n",
       "  (net): Sequential(\n",
       "    (0): Conv2d(1, 6, kernel_size=(5, 5), stride=(1, 1))\n",
       "    (1): ReLU()\n",
       "    (2): AvgPool2d(kernel_size=2, stride=2, padding=0)\n",
       "    (3): Conv2d(6, 16, kernel_size=(5, 5), stride=(1, 1))\n",
       "    (4): ReLU()\n",
       "    (5): AvgPool2d(kernel_size=2, stride=2, padding=0)\n",
       "    (6): Flatten(start_dim=1, end_dim=-1)\n",
       "    (7): Linear(in_features=256, out_features=120, bias=True)\n",
       "    (8): ReLU()\n",
       "    (9): Linear(in_features=120, out_features=84, bias=True)\n",
       "    (10): ReLU()\n",
       "    (11): Linear(in_features=84, out_features=10, bias=True)\n",
       "  )\n",
       ")"
      ]
     },
     "execution_count": 165,
     "metadata": {},
     "output_type": "execute_result"
    }
   ],
   "source": [
    "for epoch in range(epochs):\n",
    "    train_one_epoch()"
   ]
  },
  {
   "cell_type": "code",
   "execution_count": 166,
   "id": "b77c8235",
   "metadata": {},
   "outputs": [
    {
     "data": {
      "text/plain": [
       "[<matplotlib.lines.Line2D at 0x321055f90>]"
      ]
     },
     "execution_count": 166,
     "metadata": {},
     "output_type": "execute_result"
    },
    {
     "data": {
      "image/png": "[encoded data removed]",
      "text/plain": [
       "<Figure size 640x480 with 1 Axes>"
      ]
     },
     "metadata": {},
     "output_type": "display_data"
    }
   ],
   "source": [
    "plt.plot(avg_loss_list)"
   ]
  },
  {
   "cell_type": "code",
   "execution_count": 167,
   "id": "e5828ebc",
   "metadata": {},
   "outputs": [
    {
     "name": "stdout",
     "output_type": "stream",
     "text": [
      "Accuracy of the model on the 10000 test images: 99.15%\n"
     ]
    }
   ],
   "source": [
    "def evaluate(): \n",
    "    model_LeNet.eval()\n",
    "    correct = 0\n",
    "    total = 0\n",
    "    with torch.no_grad():\n",
    "        for i, data in enumerate(test_loader):\n",
    "            inputs, labels = data\n",
    "            inputs, labels = inputs.to(device), labels.to(device)\n",
    "            outputs = model_LeNet(inputs)\n",
    "            _, predicted = outputs.max(1)\n",
    "            total += labels.size(0)\n",
    "            correct += predicted.eq(labels).sum().item()\n",
    "    accuracy = 100 * correct / total\n",
    "    print(f'Accuracy of the model on the 10000 test images: {accuracy:.2f}%')\n",
    "\n",
    "evaluate()\n",
    "            "
   ]
  },
  {
   "cell_type": "markdown",
   "id": "11b0faa1",
   "metadata": {},
   "source": [
    "### Architecture 2 : VGG"
   ]
  },
  {
   "cell_type": "markdown",
   "id": "2436884e",
   "metadata": {},
   "source": [
    "### Architecture 3 : ResNet"
   ]
  },
  {
   "cell_type": "markdown",
   "id": "e6fe6807",
   "metadata": {},
   "source": [
    "## PART 2 : Generation of adverserial examples"
   ]
  }
 ],
 "metadata": {
  "kernelspec": {
   "display_name": "aria_image",
   "language": "python",
   "name": "python3"
  },
  "language_info": {
   "codemirror_mode": {
    "name": "ipython",
    "version": 3
   },
   "file_extension": ".py",
   "mimetype": "text/x-python",
   "name": "python",
   "nbconvert_exporter": "python",
   "pygments_lexer": "ipython3",
   "version": "3.13.7"
  }
 },
 "nbformat": 4,
 "nbformat_minor": 5
}
