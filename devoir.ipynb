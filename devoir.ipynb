{
 "cells": [
  {
   "cell_type": "markdown",
   "id": "b811c453",
   "metadata": {},
   "source": [
    "# Homework assignment for ARIA image course "
   ]
  },
  {
   "cell_type": "code",
   "execution_count": null,
   "id": "3c61bbe5",
   "metadata": {},
   "outputs": [
    {
     "name": "stdout",
     "output_type": "stream",
     "text": [
      "Using device: cpu\n"
     ]
    }
   ],
   "source": [
    "import torch \n",
    "import torchvision.transforms.v2 as transforms\n",
    "from torchvision import datasets\n",
    "from torch.utils.data import DataLoader\n",
    "\n",
    "device = torch.device(\"cuda\" if torch.cuda.is_available() else \"cpu\")\n",
    "print(\"Using device:\", device)"
   ]
  },
  {
   "cell_type": "code",
   "execution_count": null,
   "id": "0d6c3f1f",
   "metadata": {},
   "outputs": [],
   "source": [
    "transform = transforms.Compose([\n",
    "    transforms.ToTensor(), \n",
    "    transforms.Normalize((0.5,), (0.5,))\n",
    "    ])"
   ]
  },
  {
   "cell_type": "code",
   "execution_count": 8,
   "id": "5c940d8d",
   "metadata": {},
   "outputs": [],
   "source": [
    "train_dataset = datasets.MNIST(root=\"./data\", train=True, download=True, transform=transform)\n",
    "test_dataset = datasets.MNIST(root=\"./data\", train=False, download=True, transform=transform)\n",
    "\n",
    "train_loader = DataLoader(train_dataset, batch_size=64, shuffle=True)\n",
    "test_loader = DataLoader(test_dataset, batch_size=1000, shuffle=False)"
   ]
  },
  {
   "cell_type": "markdown",
   "id": "831fe08f",
   "metadata": {},
   "source": [
    "## PART 1 : Classification with CNN on MNIST"
   ]
  },
  {
   "cell_type": "markdown",
   "id": "c4e446d9",
   "metadata": {},
   "source": [
    "For the purpouse of learning and experimentation, we implement different CNN architecture and compare there efficiency on the MNIST classification task."
   ]
  },
  {
   "cell_type": "markdown",
   "id": "33a29b06",
   "metadata": {},
   "source": [
    "### Architecture 1 :  LeNet "
   ]
  },
  {
   "cell_type": "markdown",
   "id": "11b0faa1",
   "metadata": {},
   "source": [
    "### Architecture 2 : VGG"
   ]
  },
  {
   "cell_type": "markdown",
   "id": "2436884e",
   "metadata": {},
   "source": [
    "### Architecture 3 : ResNet"
   ]
  }
 ],
 "metadata": {
  "kernelspec": {
   "display_name": "aria_image",
   "language": "python",
   "name": "python3"
  },
  "language_info": {
   "codemirror_mode": {
    "name": "ipython",
    "version": 3
   },
   "file_extension": ".py",
   "mimetype": "text/x-python",
   "name": "python",
   "nbconvert_exporter": "python",
   "pygments_lexer": "ipython3",
   "version": "3.13.7"
  }
 },
 "nbformat": 4,
 "nbformat_minor": 5
}
